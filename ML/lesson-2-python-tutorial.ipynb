{
 "cells": [
  {
   "cell_type": "markdown",
   "id": "07d04a20-1c2f-42dd-9b33-ed1b805504b6",
   "metadata": {
    "tags": []
   },
   "source": [
    "# Python for Machine Learning\n",
    "\n",
    "## Introduction\n",
    "\n",
    "This tutorial goes through the basics of the Python programming language. To run a block of code, press the run button in the toolbar. The output will be displayed below.\n",
    "\n",
    "Python is the most widely used programming language for machine learning because: \n",
    "\n",
    "- It is easy to learn and operate\n",
    "- It is compatible with a range of machine learning libraries\n",
    "- It can be used for related tasks, including data collection (web scraping) and data piping (Hadoop and Spark). \n",
    "\n",
    "To start, render all the text cells by pressing Run and going to Run All Markdown Cells.\n",
    "\n",
    "## Import\n",
    "\n",
    "Let's start by importing the modules that we need. This can be done by calling the Pip module manager."
   ]
  },
  {
   "cell_type": "code",
   "execution_count": 1,
   "id": "2ff56324-40ee-4c9c-a420-5555518100db",
   "metadata": {
    "collapsed": true,
    "jupyter": {
     "outputs_hidden": true
    },
    "tags": []
   },
   "outputs": [
    {
     "name": "stdout",
     "output_type": "stream",
     "text": [
      "Requirement already satisfied: matplotlib in c:\\users\\weron\\appdata\\local\\programs\\python\\python311\\lib\\site-packages (3.7.0)\n",
      "Requirement already satisfied: contourpy>=1.0.1 in c:\\users\\weron\\appdata\\local\\programs\\python\\python311\\lib\\site-packages (from matplotlib) (1.0.7)\n",
      "Requirement already satisfied: cycler>=0.10 in c:\\users\\weron\\appdata\\local\\programs\\python\\python311\\lib\\site-packages (from matplotlib) (0.11.0)\n",
      "Requirement already satisfied: fonttools>=4.22.0 in c:\\users\\weron\\appdata\\local\\programs\\python\\python311\\lib\\site-packages (from matplotlib) (4.38.0)\n",
      "Requirement already satisfied: kiwisolver>=1.0.1 in c:\\users\\weron\\appdata\\local\\programs\\python\\python311\\lib\\site-packages (from matplotlib) (1.4.4)\n",
      "Requirement already satisfied: numpy>=1.20 in c:\\users\\weron\\appdata\\local\\programs\\python\\python311\\lib\\site-packages (from matplotlib) (1.24.2)\n",
      "Requirement already satisfied: packaging>=20.0 in c:\\users\\weron\\appdata\\roaming\\python\\python311\\site-packages (from matplotlib) (23.0)\n",
      "Requirement already satisfied: pillow>=6.2.0 in c:\\users\\weron\\appdata\\local\\programs\\python\\python311\\lib\\site-packages (from matplotlib) (9.4.0)\n",
      "Requirement already satisfied: pyparsing>=2.3.1 in c:\\users\\weron\\appdata\\local\\programs\\python\\python311\\lib\\site-packages (from matplotlib) (3.0.9)\n",
      "Requirement already satisfied: python-dateutil>=2.7 in c:\\users\\weron\\appdata\\roaming\\python\\python311\\site-packages (from matplotlib) (2.8.2)\n",
      "Requirement already satisfied: six>=1.5 in c:\\users\\weron\\appdata\\roaming\\python\\python311\\site-packages (from python-dateutil>=2.7->matplotlib) (1.16.0)\n"
     ]
    },
    {
     "name": "stderr",
     "output_type": "stream",
     "text": [
      "\n",
      "[notice] A new release of pip is available: 23.0 -> 23.0.1\n",
      "[notice] To update, run: python.exe -m pip install --upgrade pip\n"
     ]
    },
    {
     "name": "stdout",
     "output_type": "stream",
     "text": [
      "Requirement already satisfied: scikit-learn in c:\\users\\weron\\appdata\\local\\programs\\python\\python311\\lib\\site-packages (1.2.1)\n",
      "Requirement already satisfied: numpy>=1.17.3 in c:\\users\\weron\\appdata\\local\\programs\\python\\python311\\lib\\site-packages (from scikit-learn) (1.24.2)\n",
      "Requirement already satisfied: scipy>=1.3.2 in c:\\users\\weron\\appdata\\local\\programs\\python\\python311\\lib\\site-packages (from scikit-learn) (1.10.0)\n",
      "Requirement already satisfied: joblib>=1.1.1 in c:\\users\\weron\\appdata\\local\\programs\\python\\python311\\lib\\site-packages (from scikit-learn) (1.2.0)\n",
      "Requirement already satisfied: threadpoolctl>=2.0.0 in c:\\users\\weron\\appdata\\local\\programs\\python\\python311\\lib\\site-packages (from scikit-learn) (3.1.0)\n"
     ]
    },
    {
     "name": "stderr",
     "output_type": "stream",
     "text": [
      "\n",
      "[notice] A new release of pip is available: 23.0 -> 23.0.1\n",
      "[notice] To update, run: python.exe -m pip install --upgrade pip\n"
     ]
    },
    {
     "name": "stdout",
     "output_type": "stream",
     "text": [
      "Requirement already satisfied: scipy in c:\\users\\weron\\appdata\\local\\programs\\python\\python311\\lib\\site-packages (1.10.0)\n",
      "Requirement already satisfied: numpy<1.27.0,>=1.19.5 in c:\\users\\weron\\appdata\\local\\programs\\python\\python311\\lib\\site-packages (from scipy) (1.24.2)\n"
     ]
    },
    {
     "name": "stderr",
     "output_type": "stream",
     "text": [
      "\n",
      "[notice] A new release of pip is available: 23.0 -> 23.0.1\n",
      "[notice] To update, run: python.exe -m pip install --upgrade pip\n"
     ]
    },
    {
     "name": "stdout",
     "output_type": "stream",
     "text": [
      "Requirement already satisfied: numpy in c:\\users\\weron\\appdata\\local\\programs\\python\\python311\\lib\\site-packages (1.24.2)\n"
     ]
    },
    {
     "name": "stderr",
     "output_type": "stream",
     "text": [
      "\n",
      "[notice] A new release of pip is available: 23.0 -> 23.0.1\n",
      "[notice] To update, run: python.exe -m pip install --upgrade pip\n"
     ]
    },
    {
     "name": "stdout",
     "output_type": "stream",
     "text": [
      "Requirement already satisfied: pandas in c:\\users\\weron\\appdata\\local\\programs\\python\\python311\\lib\\site-packages (1.5.3)\n",
      "Requirement already satisfied: python-dateutil>=2.8.1 in c:\\users\\weron\\appdata\\roaming\\python\\python311\\site-packages (from pandas) (2.8.2)\n",
      "Requirement already satisfied: pytz>=2020.1 in c:\\users\\weron\\appdata\\local\\programs\\python\\python311\\lib\\site-packages (from pandas) (2022.7.1)\n",
      "Requirement already satisfied: numpy>=1.21.0 in c:\\users\\weron\\appdata\\local\\programs\\python\\python311\\lib\\site-packages (from pandas) (1.24.2)\n",
      "Requirement already satisfied: six>=1.5 in c:\\users\\weron\\appdata\\roaming\\python\\python311\\site-packages (from python-dateutil>=2.8.1->pandas) (1.16.0)\n"
     ]
    },
    {
     "name": "stderr",
     "output_type": "stream",
     "text": [
      "\n",
      "[notice] A new release of pip is available: 23.0 -> 23.0.1\n",
      "[notice] To update, run: python.exe -m pip install --upgrade pip\n"
     ]
    }
   ],
   "source": [
    "# to collapse the output of this code block go to View and select Collapse Selected Outputs\n",
    "\n",
    "!pip install matplotlib;\n",
    "!pip install scikit-learn;\n",
    "!pip install scipy;\n",
    "!pip install numpy;\n",
    "!pip install pandas;"
   ]
  },
  {
   "cell_type": "markdown",
   "id": "ee9190bf-5602-4e77-9d87-9322f3d6b275",
   "metadata": {},
   "source": [
    "## Print Statements\n",
    "\n",
    "Print statements can be used to display infomation to the user."
   ]
  },
  {
   "cell_type": "code",
   "execution_count": 2,
   "id": "0e06795a-d9da-4080-8f36-2ab18e18fa1d",
   "metadata": {},
   "outputs": [
    {
     "name": "stdout",
     "output_type": "stream",
     "text": [
      "Sophie\n"
     ]
    }
   ],
   "source": [
    "# print the name Sophie\n",
    "print(\"Sophie\")"
   ]
  },
  {
   "cell_type": "markdown",
   "id": "2d3aec8e-0d59-4c03-b716-5aefd4677264",
   "metadata": {},
   "source": [
    "## Data Types\n",
    "\n",
    "Python contains many different types of data. The four most used ones are string, integer, float and list.\n",
    "\n",
    " - A string is a collection of characters, such as \"Sophie\".\n",
    " - A integer is a whole number, such as 7.\n",
    " - A float is a number with a decimal point, such as 6.2."
   ]
  },
  {
   "cell_type": "code",
   "execution_count": 3,
   "id": "f6ba716c-1b11-466c-8072-5e48ec0a32fa",
   "metadata": {},
   "outputs": [
    {
     "name": "stdout",
     "output_type": "stream",
     "text": [
      "Name: Sophie  Age: 23  Shoe Length: 22.2\n"
     ]
    }
   ],
   "source": [
    "# create a variable for a name string\n",
    "name = \"Sophie\"\n",
    "\n",
    "# create a variable for an age integer\n",
    "age = 23\n",
    "\n",
    "# creating a varialbe for shoe length in cm\n",
    "shoeLength = 22.2\n",
    "\n",
    "# display the information\n",
    "print(f\"Name: {name}  Age: {age}  Shoe Length: {shoeLength}\")"
   ]
  },
  {
   "cell_type": "markdown",
   "id": "5c66bcb6-6e78-433b-941b-64ea0e7e37df",
   "metadata": {},
   "source": [
    "## Advanced Data Types\n",
    "\n",
    "Lists are groups of varaibles that are stored together. For example, the name of everyone in the class could be stored in a list. Lists can take any data type such as string, integer or float.\n",
    "\n",
    "Tuples are used to store multiple items in a single variable. Tuple is one of 4 built-in data types in Python used to store collections of data, the other 3 are List, Set, and Dictionary, all with different qualities and usage. A tuple is a collection which is ordered and unchangeable. Tuples are written with round brackets."
   ]
  },
  {
   "cell_type": "code",
   "execution_count": 4,
   "id": "9968a40b-68fc-4b01-8014-908166b2f719",
   "metadata": {},
   "outputs": [
    {
     "name": "stdout",
     "output_type": "stream",
     "text": [
      "['Sophie', 'Donna', 'Chris', 'Dave']\n",
      "('Sophie', 'Smith')\n"
     ]
    }
   ],
   "source": [
    "# instantiate a list\n",
    "names = [\"Sophie\", \"Donna\", \"Chris\"]\n",
    "\n",
    "# get just the xth element of a list by doing list[x]\n",
    "# note that list numbering starts at 0, so the first element is list[x]\n",
    "firstMember = names[0]\n",
    "\n",
    "# we can also append an element to a list\n",
    "names.append(\"Dave\")\n",
    "\n",
    "# lets prints the list to see what it looks like now\n",
    "print(names)\n",
    "\n",
    "# instantiate a tuple\n",
    "# elements in a tuple can be accessed the same way as a list\n",
    "name = (\"Sophie\", \"Smith\")\n",
    "\n",
    "# lets print the tuple\n",
    "print(name)"
   ]
  },
  {
   "cell_type": "markdown",
   "id": "e7ee82c3-043f-4066-bd49-0279e6789be9",
   "metadata": {},
   "source": [
    "## Operators\n",
    "\n",
    "Arithmetic operators are used with numeric values to perform common mathematical operations."
   ]
  },
  {
   "cell_type": "code",
   "execution_count": 5,
   "id": "427ece0e-b891-471d-8388-60a51cfc8273",
   "metadata": {},
   "outputs": [
    {
     "name": "stdout",
     "output_type": "stream",
     "text": [
      "11\n",
      "3\n",
      "28\n",
      "1.75\n",
      "2401\n"
     ]
    }
   ],
   "source": [
    "# let's start by declaring some numerical variables\n",
    "x = 7\n",
    "y = 4\n",
    "\n",
    "# plus operator is +\n",
    "print(x + y)\n",
    "\n",
    "# minus operator is -\n",
    "print(x - y)\n",
    "\n",
    "# multiplication operator is *\n",
    "print(x * y)\n",
    "\n",
    "# division operator is /\n",
    "print(x / y)\n",
    "\n",
    "# exponential operator is **\n",
    "print(x ** y)"
   ]
  },
  {
   "cell_type": "markdown",
   "id": "9a9664f4-e115-46c3-82b6-dc2db683d6a1",
   "metadata": {},
   "source": [
    "## Conditional Statements\n",
    "\n",
    "Python contains conditional statements which can be used so that a certain section of code only runs when a certain condition is met."
   ]
  },
  {
   "cell_type": "code",
   "execution_count": 6,
   "id": "b6c06ff8-bd02-44e4-8069-92f1bb9732a0",
   "metadata": {},
   "outputs": [
    {
     "name": "stdout",
     "output_type": "stream",
     "text": [
      "Hello Sophie!\n"
     ]
    }
   ],
   "source": [
    "# lets start by declaring a name\n",
    "name = \"Sophie\"\n",
    "\n",
    "# code inside an if statement only runs if the condition next to the if statement is met\n",
    "# change the value of name and see what happens\n",
    "if name == \"Sophie\":\n",
    "    print(\"Hello Sophie!\")"
   ]
  },
  {
   "cell_type": "code",
   "execution_count": 7,
   "id": "c0c15797-2aed-4b15-b456-29be348e7c74",
   "metadata": {},
   "outputs": [
    {
     "name": "stdout",
     "output_type": "stream",
     "text": [
      "Hello Sophie!\n"
     ]
    }
   ],
   "source": [
    "# the else statement can be used to run a block of code when the condition is NOT met\n",
    "# try modifying name again\n",
    "if name == \"Sophie\":\n",
    "    print(\"Hello Sophie!\")\n",
    "else:\n",
    "    print(\"Hello unknown person!\")"
   ]
  },
  {
   "cell_type": "code",
   "execution_count": 8,
   "id": "80f36107-fb0f-4997-a942-7926ac54c727",
   "metadata": {},
   "outputs": [
    {
     "name": "stdout",
     "output_type": "stream",
     "text": [
      "Hello Sophie!\n"
     ]
    }
   ],
   "source": [
    "# elif statements can be used alongside an if statement to test for another condition\n",
    "# try modifying name again\n",
    "if name == \"Sophie\":\n",
    "    print(\"Hello Sophie!\")\n",
    "elif name == \"Donna\":\n",
    "    print(\"Hello Donna\")\n",
    "elif name == \"Chris\":\n",
    "    print(\"Hello Chris\")\n",
    "else:\n",
    "    print(\"Hello unknown person!\")"
   ]
  },
  {
   "cell_type": "markdown",
   "id": "098d9314-38a2-4a35-9da1-871d490b15b7",
   "metadata": {},
   "source": [
    "## Loops\n",
    "\n",
    "Loops can be used to run a section of code several times. Here we will learn about for loops."
   ]
  },
  {
   "cell_type": "code",
   "execution_count": 9,
   "id": "694667e8-5e2d-40f1-a233-6d3a634f2e04",
   "metadata": {},
   "outputs": [
    {
     "name": "stdout",
     "output_type": "stream",
     "text": [
      "Hello Sophie\n",
      "Hello Donna\n",
      "Hello Chris\n",
      "Hello Dave\n"
     ]
    }
   ],
   "source": [
    "# for loops run for each value in a list of elements\n",
    "for name in names:\n",
    "    print(f\"Hello {name}\")"
   ]
  },
  {
   "cell_type": "markdown",
   "id": "4131b3b7-acc1-41cc-9f71-eea70e1b1654",
   "metadata": {},
   "source": [
    "## Functions\n",
    "\n",
    "Functions can be used to split off a section of code that we may want to run again later."
   ]
  },
  {
   "cell_type": "code",
   "execution_count": 10,
   "id": "4abed17d-792e-43b6-836b-9b1a69d56206",
   "metadata": {},
   "outputs": [
    {
     "name": "stdout",
     "output_type": "stream",
     "text": [
      "12\n"
     ]
    }
   ],
   "source": [
    "# define a function to multiple two numbers together\n",
    "# this function is called multiply_numbers\n",
    "# it takes in two variables called x and y\n",
    "# it then calculates the answer and returns it back to where the function was called\n",
    "def multiply_numbers(x, y):\n",
    "    \n",
    "    answer = x * y\n",
    "    \n",
    "    return answer\n",
    "\n",
    "# lets call the function on 2 and 6 and print the answer\n",
    "print(multiply_numbers(2, 6))"
   ]
  },
  {
   "cell_type": "markdown",
   "id": "3c5751db-ee8e-4185-8896-04367be3bd56",
   "metadata": {},
   "source": [
    "## Visualisation\n",
    "\n",
    "Let's practise visualising data using matplotlib. "
   ]
  },
  {
   "cell_type": "code",
   "execution_count": 11,
   "id": "da887664-b9ac-4618-bcf8-74d754d2763d",
   "metadata": {},
   "outputs": [
    {
     "data": {
      "image/png": "[encoded data removed]",
      "text/plain": [
       "<Figure size 640x480 with 1 Axes>"
      ]
     },
     "metadata": {},
     "output_type": "display_data"
    }
   ],
   "source": [
    "# import the matplotlib library\n",
    "import matplotlib.pyplot as plt\n",
    "\n",
    "# the first input feature for each data point\n",
    "x = [4, 5, 10, 4, 3, 11, 14 , 8, 10, 12]\n",
    "\n",
    "# the second input feature for each data point\n",
    "y = [21, 19, 24, 17, 16, 25, 24, 22, 21, 21]\n",
    "\n",
    "# functions that belong to a library can be accessed by using library.function\n",
    "# create a scatter plot using matlibplot which the two features on the axis\n",
    "plt.scatter(x, y)\n",
    "\n",
    "# show the scatter plot\n",
    "plt.show()"
   ]
  },
  {
   "cell_type": "markdown",
   "id": "3a708e04-53cf-4054-b66c-0d2e75d9ffdc",
   "metadata": {},
   "source": [
    "## Common Errors\n",
    "\n",
    "Debugging errors is a very useful skill in Python. Go through the areas that say TODO and fix the errors."
   ]
  },
  {
   "cell_type": "code",
   "execution_count": 12,
   "id": "f10c8f3b-a7fd-415b-90dd-4c5e1f589e32",
   "metadata": {},
   "outputs": [
    {
     "name": "stdout",
     "output_type": "stream",
     "text": [
      "Dave\n"
     ]
    }
   ],
   "source": [
    "# printing a variable that we haven't defined yet\n",
    "# TODO: change the variable so that the next line prints a name\n",
    "print(name)"
   ]
  },
  {
   "cell_type": "code",
   "execution_count": 13,
   "id": "a0e188f3-9f8f-415e-a924-a821bd366795",
   "metadata": {},
   "outputs": [],
   "source": [
    "# importing libraries that haven't been installed\n",
    "# TODO: install the matplotlib library\n",
    "import matplotlib.pyplot as plt"
   ]
  },
  {
   "cell_type": "code",
   "execution_count": 14,
   "id": "adad0d18-1700-436a-90e8-b16da0f2b051",
   "metadata": {},
   "outputs": [
    {
     "name": "stdout",
     "output_type": "stream",
     "text": [
      "e\n"
     ]
    }
   ],
   "source": [
    "# accessing elements of a list that don't exist\n",
    "# TODO: print the final name in the names list\n",
    "print(name[-1])"
   ]
  },
  {
   "cell_type": "code",
   "execution_count": null,
   "id": "914dd407-7428-4dc7-bb3c-ed86a2887f86",
   "metadata": {},
   "outputs": [],
   "source": []
  }
 ],
 "metadata": {
  "kernelspec": {
   "display_name": "Python 3",
   "language": "python",
   "name": "python3"
  },
  "language_info": {
   "codemirror_mode": {
    "name": "ipython",
    "version": 3
   },
   "file_extension": ".py",
   "mimetype": "text/x-python",
   "name": "python",
   "nbconvert_exporter": "python",
   "pygments_lexer": "ipython3",
   "version": "3.11.1"
  },
  "vscode": {
   "interpreter": {
    "hash": "5c7d48d13c8254bf0daddfee28ce9110a556185266c9b2661d1f5bfbd7662c83"
   }
  }
 },
 "nbformat": 4,
 "nbformat_minor": 5
}
